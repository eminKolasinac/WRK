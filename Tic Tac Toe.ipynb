{
 "cells": [
  {
   "cell_type": "code",
   "execution_count": 1,
   "metadata": {},
   "outputs": [],
   "source": [
    "#pravimo tablu pomocu dictonary\n",
    "theBoard = {'7':' ','8':' ','9':' ',\n",
    "           '4':' ','5':' ','6':' ',\n",
    "            '1':' ','2':' ','3':' '}\n",
    "board_keys = []\n",
    "for key in theBoard:\n",
    "    board_keys.append(key)"
   ]
  },
  {
   "cell_type": "code",
   "execution_count": 2,
   "metadata": {},
   "outputs": [],
   "source": [
    "#printanje table\n",
    "def printBoard(board):\n",
    "    print(board['7'] + '|' + board['8'] + '|' + board['9'])\n",
    "    print('-+-+-')\n",
    "    print(board['4'] + '|' + board['5'] + '|' + board['6'])\n",
    "    print('-+-+-')\n",
    "    print(board['1'] + '|' + board['2'] + '|' + board['3'])"
   ]
  },
  {
   "cell_type": "code",
   "execution_count": 3,
   "metadata": {},
   "outputs": [
    {
     "name": "stdout",
     "output_type": "stream",
     "text": [
      "X| | \n",
      "-+-+-\n",
      "O|X|O\n",
      "-+-+-\n",
      "X|O|X\n",
      "kraj!X je pobedio\n",
      "igrate li opet(y\n",
      ")8\n"
     ]
    }
   ],
   "source": [
    "#Glavna funkcija igrice\n",
    "def igrica():\n",
    "\n",
    "    turn = 'X'\n",
    "    count = 0\n",
    "    \n",
    "# mesto je input korisnika koji bira poziciju   \n",
    "    for i in range(10):\n",
    "        printBoard(theBoard)\n",
    "        print(\"na tebe je red\" + turn + \".Izaberi mesto?\")\n",
    "        move = input()\n",
    "        \n",
    "        if move.isdigit() == False:\n",
    "            print('broj aloooo')\n",
    "            continue\n",
    "        else:\n",
    "            if int(move) not in range(10):\n",
    "                print('broj izmedju 1 i 9')\n",
    "                continue\n",
    "        \n",
    "        if theBoard[move] == ' ':\n",
    "            theBoard[move] = turn\n",
    "            count += 1\n",
    "        else:\n",
    "            print('Izaberi drugo mesto')\n",
    "            continue\n",
    "            \n",
    "        #funkcija ispod cisti output i printa samo jednu tablu za igru\n",
    "        from IPython.display import clear_output\n",
    "        clear_output(wait=True)\n",
    "\n",
    "        if count >= 5:\n",
    "            if theBoard['7'] == theBoard['8'] == theBoard['9'] != ' ':\n",
    "                printBoard(theBoard)\n",
    "                print(\"kraj!\"+ turn + \" je pobedio\")\n",
    "                break\n",
    "            elif theBoard['4'] == theBoard['5'] == theBoard['6'] !=' ':\n",
    "                printBoard(theBoard)\n",
    "                print(\"kraj!\"+ turn + \" je pobedio\")\n",
    "                break\n",
    "            elif theBoard['1'] == theBoard['2'] == theBoard['3'] !=' ':\n",
    "                printBoard(theBoard)\n",
    "                print(\"kraj!\"+ turn + \" je pobedio\")\n",
    "                break\n",
    "            elif theBoard['7'] == theBoard['4'] == theBoard['1'] !=' ':\n",
    "                printBoard(theBoard)\n",
    "                print(\"kraj!\"+ turn + \" je pobedio\")\n",
    "                break\n",
    "            elif theBoard['8'] == theBoard['5'] == theBoard['2'] !=' ':\n",
    "                printBoard(theBoard)\n",
    "                print(\"kraj!\"+ turn + \" je pobedio\")\n",
    "            elif theBoard['9'] == theBoard['6'] == theBoard['3'] !=' ':\n",
    "                printBoard(theBoard)\n",
    "                print(\"kraj!\"+ turn + \" je pobedio\")\n",
    "                break\n",
    "            elif theBoard['1'] == theBoard['5'] == theBoard['9'] !=' ':\n",
    "                printBoard(theBoard)\n",
    "                print(\"kraj!\"+ turn + \" je pobedio\")\n",
    "                break\n",
    "            elif theBoard['7'] == theBoard['5'] == theBoard['3'] !=' ':\n",
    "                printBoard(theBoard)\n",
    "                print(\"kraj!\"+ turn + \" je pobedio\")\n",
    "                break\n",
    "            \n",
    "        if count == 9:\n",
    "            print(\"Nereseno!\")\n",
    "        \n",
    "        if turn == 'X':\n",
    "            turn = 'O'\n",
    "        else:\n",
    "            turn = 'X'\n",
    "        \n",
    "        \n",
    "        \n",
    "    restart = input('igrate li opet(y\\n)')\n",
    "    if restart == \"y\" or restart == \"Y\":\n",
    "        for key in board_keys:\n",
    "            theBoard[key] = \" \"\n",
    "            \n",
    "        igrica()\n",
    "if __name__ == \"__main__\":\n",
    "    igrica() "
   ]
  },
  {
   "cell_type": "markdown",
   "metadata": {},
   "source": []
  },
  {
   "cell_type": "code",
   "execution_count": null,
   "metadata": {},
   "outputs": [],
   "source": []
  }
 ],
 "metadata": {
  "kernelspec": {
   "display_name": "Python 3",
   "language": "python",
   "name": "python3"
  },
  "language_info": {
   "codemirror_mode": {
    "name": "ipython",
    "version": 3
   },
   "file_extension": ".py",
   "mimetype": "text/x-python",
   "name": "python",
   "nbconvert_exporter": "python",
   "pygments_lexer": "ipython3",
   "version": "3.8.5"
  }
 },
 "nbformat": 4,
 "nbformat_minor": 4
}
